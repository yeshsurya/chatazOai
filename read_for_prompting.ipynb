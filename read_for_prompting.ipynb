{
 "cells": [
  {
   "cell_type": "code",
   "execution_count": null,
   "metadata": {},
   "outputs": [],
   "source": [
    "import streamlit as st\n",
    "from openai import AzureOpenAI\n",
    "\n",
    "# Initialize the Azure OpenAI client\n",
    "client = AzureOpenAI(\n",
    "    api_key=\" \",\n",
    "    azure_endpoint=\" \",\n",
    "    api_version=\"2024-07-01-preview\"\n",
    ")\n",
    "\n",
    "\n",
    "\n",
    "# Function to get a response from the Azure OpenAI model\n",
    "def get_response(prompt):\n",
    "    response = client.chat.completions.create(\n",
    "        model=\"gpt-4o-mini\",\n",
    "        messages=[{\"role\":\"system\",\"content\":\"You are an helpful AI bot\"},\n",
    "        {\"role\":\"user\",\"content\":prompt}]\n",
    "    )\n",
    "    return response.choices[0].message.content"
   ]
  },
  {
   "cell_type": "code",
   "execution_count": null,
   "metadata": {},
   "outputs": [],
   "source": [
    "import re\n",
    "\n",
    "# Open the file in read mode\n",
    "with open('input.txt', 'r') as file:\n",
    "    # Read the entire content of the file\n",
    "    content = file.read()\n",
    "\n",
    "# Split the content by any sequence of more than three hyphens\n",
    "sections = re.split(r'-{4,}', content)\n",
    "\n",
    "# Remove any leading/trailing whitespace from each section\n",
    "sections = [section.strip() for section in sections]\n",
    "\n",
    "# Print the list of sections\n",
    "print(sections)"
   ]
  },
  {
   "cell_type": "code",
   "execution_count": null,
   "metadata": {},
   "outputs": [],
   "source": [
    "for section in sections:\n",
    "    print('#####'*20)\n",
    "    print(section)\n",
    "    print('--'*50)\n",
    "    print(get_response(section))\n",
    "    print('####'*20)"
   ]
  }
 ],
 "metadata": {
  "kernelspec": {
   "display_name": "py396",
   "language": "python",
   "name": "python3"
  },
  "language_info": {
   "codemirror_mode": {
    "name": "ipython",
    "version": 3
   },
   "file_extension": ".py",
   "mimetype": "text/x-python",
   "name": "python",
   "nbconvert_exporter": "python",
   "pygments_lexer": "ipython3",
   "version": "3.9.20"
  }
 },
 "nbformat": 4,
 "nbformat_minor": 2
}
